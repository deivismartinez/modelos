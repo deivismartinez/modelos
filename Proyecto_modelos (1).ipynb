{
  "cells": [
    {
      "cell_type": "markdown",
      "metadata": {
        "id": "OG3fpgoa8tmg"
      },
      "source": [
        "**Implementación de un modelo Bayesiano para Analizar el Comportamiento Aleatorio de una Lotería**\n",
        "\n",
        "\n",
        "# **Modelos y Simulación**\n",
        "**Profesor:** PhD Juan Carlos Vélez\n",
        "\n",
        "\n",
        "***Trabajo final de curso***\n",
        "\n",
        "**Estudiante:** Deivis Martinez Acosta\n",
        "\n",
        "Basado en el artículo : https://www.scielo.cl/scielo.php?script=sci_arttext&pid=S0718-07642018000100019"
      ]
    },
    {
      "cell_type": "markdown",
      "metadata": {
        "id": "y6M0_X3U_C4O"
      },
      "source": [
        "Importamos las librerias necesarias para el proyecto"
      ]
    },
    {
      "cell_type": "code",
      "execution_count": 2,
      "metadata": {
        "id": "4H-3m-LZAI2T"
      },
      "outputs": [],
      "source": [
        "import numpy as np\n",
        "import pandas as pd\n",
        "import matplotlib.pyplot as plt\n",
        "from tabulate import tabulate"
      ]
    },
    {
      "cell_type": "markdown",
      "metadata": {
        "id": "obPI9Urt_x1o"
      },
      "source": [
        "Cargamos el archivo con los datos a procesar, con los números ganadores de una lotería israelí, que van desde el año 1968 hasta el año 2022.  Para un total de 4047 sorteos. inspeccionamos las cinco (5) primeras filas.\n",
        "Los datos se cargan en una variable llamada X, para guardar congruencia con las variables descritas en el artículo."
      ]
    },
    {
      "cell_type": "code",
      "execution_count": 4,
      "metadata": {
        "colab": {
          "base_uri": "https://localhost:8080/",
          "height": 206
        },
        "id": "X-8EYre2Aeob",
        "outputId": "198771d3-7399-4209-bb5b-45b25cdcf4cc"
      },
      "outputs": [
        {
          "output_type": "execute_result",
          "data": {
            "text/plain": [
              "   Game        Date   A   B   C   D   E   F\n",
              "0  6801  03/09/1968   3  14  18  22  25  33\n",
              "1  6802  10/09/1968  13  20  23  29  32  34\n",
              "2  6803  17/09/1968   8  12  26  27  34  38\n",
              "3  6804  24/09/1968   1  14  17  26  35  39\n",
              "4  6805  01/10/1968   1   7   8   9  11  30"
            ],
            "text/html": [
              "\n",
              "  <div id=\"df-09ddee3e-108e-49e0-9790-bec045e2a4a8\">\n",
              "    <div class=\"colab-df-container\">\n",
              "      <div>\n",
              "<style scoped>\n",
              "    .dataframe tbody tr th:only-of-type {\n",
              "        vertical-align: middle;\n",
              "    }\n",
              "\n",
              "    .dataframe tbody tr th {\n",
              "        vertical-align: top;\n",
              "    }\n",
              "\n",
              "    .dataframe thead th {\n",
              "        text-align: right;\n",
              "    }\n",
              "</style>\n",
              "<table border=\"1\" class=\"dataframe\">\n",
              "  <thead>\n",
              "    <tr style=\"text-align: right;\">\n",
              "      <th></th>\n",
              "      <th>Game</th>\n",
              "      <th>Date</th>\n",
              "      <th>A</th>\n",
              "      <th>B</th>\n",
              "      <th>C</th>\n",
              "      <th>D</th>\n",
              "      <th>E</th>\n",
              "      <th>F</th>\n",
              "    </tr>\n",
              "  </thead>\n",
              "  <tbody>\n",
              "    <tr>\n",
              "      <th>0</th>\n",
              "      <td>6801</td>\n",
              "      <td>03/09/1968</td>\n",
              "      <td>3</td>\n",
              "      <td>14</td>\n",
              "      <td>18</td>\n",
              "      <td>22</td>\n",
              "      <td>25</td>\n",
              "      <td>33</td>\n",
              "    </tr>\n",
              "    <tr>\n",
              "      <th>1</th>\n",
              "      <td>6802</td>\n",
              "      <td>10/09/1968</td>\n",
              "      <td>13</td>\n",
              "      <td>20</td>\n",
              "      <td>23</td>\n",
              "      <td>29</td>\n",
              "      <td>32</td>\n",
              "      <td>34</td>\n",
              "    </tr>\n",
              "    <tr>\n",
              "      <th>2</th>\n",
              "      <td>6803</td>\n",
              "      <td>17/09/1968</td>\n",
              "      <td>8</td>\n",
              "      <td>12</td>\n",
              "      <td>26</td>\n",
              "      <td>27</td>\n",
              "      <td>34</td>\n",
              "      <td>38</td>\n",
              "    </tr>\n",
              "    <tr>\n",
              "      <th>3</th>\n",
              "      <td>6804</td>\n",
              "      <td>24/09/1968</td>\n",
              "      <td>1</td>\n",
              "      <td>14</td>\n",
              "      <td>17</td>\n",
              "      <td>26</td>\n",
              "      <td>35</td>\n",
              "      <td>39</td>\n",
              "    </tr>\n",
              "    <tr>\n",
              "      <th>4</th>\n",
              "      <td>6805</td>\n",
              "      <td>01/10/1968</td>\n",
              "      <td>1</td>\n",
              "      <td>7</td>\n",
              "      <td>8</td>\n",
              "      <td>9</td>\n",
              "      <td>11</td>\n",
              "      <td>30</td>\n",
              "    </tr>\n",
              "  </tbody>\n",
              "</table>\n",
              "</div>\n",
              "      <button class=\"colab-df-convert\" onclick=\"convertToInteractive('df-09ddee3e-108e-49e0-9790-bec045e2a4a8')\"\n",
              "              title=\"Convert this dataframe to an interactive table.\"\n",
              "              style=\"display:none;\">\n",
              "        \n",
              "  <svg xmlns=\"http://www.w3.org/2000/svg\" height=\"24px\"viewBox=\"0 0 24 24\"\n",
              "       width=\"24px\">\n",
              "    <path d=\"M0 0h24v24H0V0z\" fill=\"none\"/>\n",
              "    <path d=\"M18.56 5.44l.94 2.06.94-2.06 2.06-.94-2.06-.94-.94-2.06-.94 2.06-2.06.94zm-11 1L8.5 8.5l.94-2.06 2.06-.94-2.06-.94L8.5 2.5l-.94 2.06-2.06.94zm10 10l.94 2.06.94-2.06 2.06-.94-2.06-.94-.94-2.06-.94 2.06-2.06.94z\"/><path d=\"M17.41 7.96l-1.37-1.37c-.4-.4-.92-.59-1.43-.59-.52 0-1.04.2-1.43.59L10.3 9.45l-7.72 7.72c-.78.78-.78 2.05 0 2.83L4 21.41c.39.39.9.59 1.41.59.51 0 1.02-.2 1.41-.59l7.78-7.78 2.81-2.81c.8-.78.8-2.07 0-2.86zM5.41 20L4 18.59l7.72-7.72 1.47 1.35L5.41 20z\"/>\n",
              "  </svg>\n",
              "      </button>\n",
              "      \n",
              "  <style>\n",
              "    .colab-df-container {\n",
              "      display:flex;\n",
              "      flex-wrap:wrap;\n",
              "      gap: 12px;\n",
              "    }\n",
              "\n",
              "    .colab-df-convert {\n",
              "      background-color: #E8F0FE;\n",
              "      border: none;\n",
              "      border-radius: 50%;\n",
              "      cursor: pointer;\n",
              "      display: none;\n",
              "      fill: #1967D2;\n",
              "      height: 32px;\n",
              "      padding: 0 0 0 0;\n",
              "      width: 32px;\n",
              "    }\n",
              "\n",
              "    .colab-df-convert:hover {\n",
              "      background-color: #E2EBFA;\n",
              "      box-shadow: 0px 1px 2px rgba(60, 64, 67, 0.3), 0px 1px 3px 1px rgba(60, 64, 67, 0.15);\n",
              "      fill: #174EA6;\n",
              "    }\n",
              "\n",
              "    [theme=dark] .colab-df-convert {\n",
              "      background-color: #3B4455;\n",
              "      fill: #D2E3FC;\n",
              "    }\n",
              "\n",
              "    [theme=dark] .colab-df-convert:hover {\n",
              "      background-color: #434B5C;\n",
              "      box-shadow: 0px 1px 3px 1px rgba(0, 0, 0, 0.15);\n",
              "      filter: drop-shadow(0px 1px 2px rgba(0, 0, 0, 0.3));\n",
              "      fill: #FFFFFF;\n",
              "    }\n",
              "  </style>\n",
              "\n",
              "      <script>\n",
              "        const buttonEl =\n",
              "          document.querySelector('#df-09ddee3e-108e-49e0-9790-bec045e2a4a8 button.colab-df-convert');\n",
              "        buttonEl.style.display =\n",
              "          google.colab.kernel.accessAllowed ? 'block' : 'none';\n",
              "\n",
              "        async function convertToInteractive(key) {\n",
              "          const element = document.querySelector('#df-09ddee3e-108e-49e0-9790-bec045e2a4a8');\n",
              "          const dataTable =\n",
              "            await google.colab.kernel.invokeFunction('convertToInteractive',\n",
              "                                                     [key], {});\n",
              "          if (!dataTable) return;\n",
              "\n",
              "          const docLinkHtml = 'Like what you see? Visit the ' +\n",
              "            '<a target=\"_blank\" href=https://colab.research.google.com/notebooks/data_table.ipynb>data table notebook</a>'\n",
              "            + ' to learn more about interactive tables.';\n",
              "          element.innerHTML = '';\n",
              "          dataTable['output_type'] = 'display_data';\n",
              "          await google.colab.output.renderOutput(dataTable, element);\n",
              "          const docLink = document.createElement('div');\n",
              "          docLink.innerHTML = docLinkHtml;\n",
              "          element.appendChild(docLink);\n",
              "        }\n",
              "      </script>\n",
              "    </div>\n",
              "  </div>\n",
              "  "
            ]
          },
          "metadata": {},
          "execution_count": 4
        }
      ],
      "source": [
        "X = pd.read_csv(\"IsraeliLottery.csv\")\n",
        "X.head()"
      ]
    },
    {
      "cell_type": "markdown",
      "metadata": {
        "id": "__6Z0lxEBK3A"
      },
      "source": [
        "inspeccionamos las cinco (5) últimas filas cargadas con el fin de corroborar la calidad de los datos."
      ]
    },
    {
      "cell_type": "code",
      "execution_count": 5,
      "metadata": {
        "colab": {
          "base_uri": "https://localhost:8080/",
          "height": 206
        },
        "id": "gAfw95HGCwKJ",
        "outputId": "037d40c8-b321-45be-e5d0-8987019c3ac4"
      },
      "outputs": [
        {
          "output_type": "execute_result",
          "data": {
            "text/plain": [
              "      Game        Date  A   B   C   D   E   F\n",
              "4042  3467  14/05/2022  9  16  17  21  26  29\n",
              "4043  3468  17/05/2022  1   4   5  24  31  32\n",
              "4044  3469  19/05/2022  1   8  18  25  29  30\n",
              "4045  3470  21/05/2022  3   4   5  15  24  33\n",
              "4046  3471  24/05/2022  6  10  13  20  23  35"
            ],
            "text/html": [
              "\n",
              "  <div id=\"df-21f73e03-6ef5-41f4-982f-4e620b4a6666\">\n",
              "    <div class=\"colab-df-container\">\n",
              "      <div>\n",
              "<style scoped>\n",
              "    .dataframe tbody tr th:only-of-type {\n",
              "        vertical-align: middle;\n",
              "    }\n",
              "\n",
              "    .dataframe tbody tr th {\n",
              "        vertical-align: top;\n",
              "    }\n",
              "\n",
              "    .dataframe thead th {\n",
              "        text-align: right;\n",
              "    }\n",
              "</style>\n",
              "<table border=\"1\" class=\"dataframe\">\n",
              "  <thead>\n",
              "    <tr style=\"text-align: right;\">\n",
              "      <th></th>\n",
              "      <th>Game</th>\n",
              "      <th>Date</th>\n",
              "      <th>A</th>\n",
              "      <th>B</th>\n",
              "      <th>C</th>\n",
              "      <th>D</th>\n",
              "      <th>E</th>\n",
              "      <th>F</th>\n",
              "    </tr>\n",
              "  </thead>\n",
              "  <tbody>\n",
              "    <tr>\n",
              "      <th>4042</th>\n",
              "      <td>3467</td>\n",
              "      <td>14/05/2022</td>\n",
              "      <td>9</td>\n",
              "      <td>16</td>\n",
              "      <td>17</td>\n",
              "      <td>21</td>\n",
              "      <td>26</td>\n",
              "      <td>29</td>\n",
              "    </tr>\n",
              "    <tr>\n",
              "      <th>4043</th>\n",
              "      <td>3468</td>\n",
              "      <td>17/05/2022</td>\n",
              "      <td>1</td>\n",
              "      <td>4</td>\n",
              "      <td>5</td>\n",
              "      <td>24</td>\n",
              "      <td>31</td>\n",
              "      <td>32</td>\n",
              "    </tr>\n",
              "    <tr>\n",
              "      <th>4044</th>\n",
              "      <td>3469</td>\n",
              "      <td>19/05/2022</td>\n",
              "      <td>1</td>\n",
              "      <td>8</td>\n",
              "      <td>18</td>\n",
              "      <td>25</td>\n",
              "      <td>29</td>\n",
              "      <td>30</td>\n",
              "    </tr>\n",
              "    <tr>\n",
              "      <th>4045</th>\n",
              "      <td>3470</td>\n",
              "      <td>21/05/2022</td>\n",
              "      <td>3</td>\n",
              "      <td>4</td>\n",
              "      <td>5</td>\n",
              "      <td>15</td>\n",
              "      <td>24</td>\n",
              "      <td>33</td>\n",
              "    </tr>\n",
              "    <tr>\n",
              "      <th>4046</th>\n",
              "      <td>3471</td>\n",
              "      <td>24/05/2022</td>\n",
              "      <td>6</td>\n",
              "      <td>10</td>\n",
              "      <td>13</td>\n",
              "      <td>20</td>\n",
              "      <td>23</td>\n",
              "      <td>35</td>\n",
              "    </tr>\n",
              "  </tbody>\n",
              "</table>\n",
              "</div>\n",
              "      <button class=\"colab-df-convert\" onclick=\"convertToInteractive('df-21f73e03-6ef5-41f4-982f-4e620b4a6666')\"\n",
              "              title=\"Convert this dataframe to an interactive table.\"\n",
              "              style=\"display:none;\">\n",
              "        \n",
              "  <svg xmlns=\"http://www.w3.org/2000/svg\" height=\"24px\"viewBox=\"0 0 24 24\"\n",
              "       width=\"24px\">\n",
              "    <path d=\"M0 0h24v24H0V0z\" fill=\"none\"/>\n",
              "    <path d=\"M18.56 5.44l.94 2.06.94-2.06 2.06-.94-2.06-.94-.94-2.06-.94 2.06-2.06.94zm-11 1L8.5 8.5l.94-2.06 2.06-.94-2.06-.94L8.5 2.5l-.94 2.06-2.06.94zm10 10l.94 2.06.94-2.06 2.06-.94-2.06-.94-.94-2.06-.94 2.06-2.06.94z\"/><path d=\"M17.41 7.96l-1.37-1.37c-.4-.4-.92-.59-1.43-.59-.52 0-1.04.2-1.43.59L10.3 9.45l-7.72 7.72c-.78.78-.78 2.05 0 2.83L4 21.41c.39.39.9.59 1.41.59.51 0 1.02-.2 1.41-.59l7.78-7.78 2.81-2.81c.8-.78.8-2.07 0-2.86zM5.41 20L4 18.59l7.72-7.72 1.47 1.35L5.41 20z\"/>\n",
              "  </svg>\n",
              "      </button>\n",
              "      \n",
              "  <style>\n",
              "    .colab-df-container {\n",
              "      display:flex;\n",
              "      flex-wrap:wrap;\n",
              "      gap: 12px;\n",
              "    }\n",
              "\n",
              "    .colab-df-convert {\n",
              "      background-color: #E8F0FE;\n",
              "      border: none;\n",
              "      border-radius: 50%;\n",
              "      cursor: pointer;\n",
              "      display: none;\n",
              "      fill: #1967D2;\n",
              "      height: 32px;\n",
              "      padding: 0 0 0 0;\n",
              "      width: 32px;\n",
              "    }\n",
              "\n",
              "    .colab-df-convert:hover {\n",
              "      background-color: #E2EBFA;\n",
              "      box-shadow: 0px 1px 2px rgba(60, 64, 67, 0.3), 0px 1px 3px 1px rgba(60, 64, 67, 0.15);\n",
              "      fill: #174EA6;\n",
              "    }\n",
              "\n",
              "    [theme=dark] .colab-df-convert {\n",
              "      background-color: #3B4455;\n",
              "      fill: #D2E3FC;\n",
              "    }\n",
              "\n",
              "    [theme=dark] .colab-df-convert:hover {\n",
              "      background-color: #434B5C;\n",
              "      box-shadow: 0px 1px 3px 1px rgba(0, 0, 0, 0.15);\n",
              "      filter: drop-shadow(0px 1px 2px rgba(0, 0, 0, 0.3));\n",
              "      fill: #FFFFFF;\n",
              "    }\n",
              "  </style>\n",
              "\n",
              "      <script>\n",
              "        const buttonEl =\n",
              "          document.querySelector('#df-21f73e03-6ef5-41f4-982f-4e620b4a6666 button.colab-df-convert');\n",
              "        buttonEl.style.display =\n",
              "          google.colab.kernel.accessAllowed ? 'block' : 'none';\n",
              "\n",
              "        async function convertToInteractive(key) {\n",
              "          const element = document.querySelector('#df-21f73e03-6ef5-41f4-982f-4e620b4a6666');\n",
              "          const dataTable =\n",
              "            await google.colab.kernel.invokeFunction('convertToInteractive',\n",
              "                                                     [key], {});\n",
              "          if (!dataTable) return;\n",
              "\n",
              "          const docLinkHtml = 'Like what you see? Visit the ' +\n",
              "            '<a target=\"_blank\" href=https://colab.research.google.com/notebooks/data_table.ipynb>data table notebook</a>'\n",
              "            + ' to learn more about interactive tables.';\n",
              "          element.innerHTML = '';\n",
              "          dataTable['output_type'] = 'display_data';\n",
              "          await google.colab.output.renderOutput(dataTable, element);\n",
              "          const docLink = document.createElement('div');\n",
              "          docLink.innerHTML = docLinkHtml;\n",
              "          element.appendChild(docLink);\n",
              "        }\n",
              "      </script>\n",
              "    </div>\n",
              "  </div>\n",
              "  "
            ]
          },
          "metadata": {},
          "execution_count": 5
        }
      ],
      "source": [
        "X.tail()"
      ]
    },
    {
      "cell_type": "markdown",
      "metadata": {
        "id": "UAQY0M3KBS_m"
      },
      "source": [
        "Revisamos las características de nuestros datos, ¿qué tipo son?, recordando que para las operaciones deben ser numéricos."
      ]
    },
    {
      "cell_type": "code",
      "execution_count": 6,
      "metadata": {
        "colab": {
          "base_uri": "https://localhost:8080/"
        },
        "id": "7fLKEFQiCwIx",
        "outputId": "e79357ad-3197-4a23-9e6f-35f310b01bab"
      },
      "outputs": [
        {
          "output_type": "stream",
          "name": "stdout",
          "text": [
            "<class 'pandas.core.frame.DataFrame'>\n",
            "RangeIndex: 4047 entries, 0 to 4046\n",
            "Data columns (total 8 columns):\n",
            " #   Column  Non-Null Count  Dtype \n",
            "---  ------  --------------  ----- \n",
            " 0   Game    4047 non-null   int64 \n",
            " 1   Date    4047 non-null   object\n",
            " 2   A       4047 non-null   int64 \n",
            " 3   B       4047 non-null   int64 \n",
            " 4   C       4047 non-null   int64 \n",
            " 5   D       4047 non-null   int64 \n",
            " 6   E       4047 non-null   int64 \n",
            " 7   F       4047 non-null   int64 \n",
            "dtypes: int64(7), object(1)\n",
            "memory usage: 253.1+ KB\n"
          ]
        }
      ],
      "source": [
        "X.info()"
      ]
    },
    {
      "cell_type": "markdown",
      "metadata": {
        "id": "r0upQm73CMS_"
      },
      "source": [
        "Depurando nuestros datos eliminamos la columna de consecutivo de sorteos y la fecha en la que se hizo para quedar con la matriz de resultados."
      ]
    },
    {
      "cell_type": "code",
      "execution_count": 7,
      "metadata": {
        "id": "jbQJGvqqGaUc"
      },
      "outputs": [],
      "source": [
        "X.drop(['Game', 'Date'], axis=1, inplace=True)"
      ]
    },
    {
      "cell_type": "markdown",
      "metadata": {
        "id": "JR77jlhQCxno"
      },
      "source": [
        "Verificamos que no estén las columnas que deseamos eliminar"
      ]
    },
    {
      "cell_type": "code",
      "execution_count": 8,
      "metadata": {
        "colab": {
          "base_uri": "https://localhost:8080/",
          "height": 206
        },
        "id": "GimoiNvKCwvM",
        "outputId": "ecaabb43-833c-42b5-f653-cf89a141177f"
      },
      "outputs": [
        {
          "output_type": "execute_result",
          "data": {
            "text/plain": [
              "    A   B   C   D   E   F\n",
              "0   3  14  18  22  25  33\n",
              "1  13  20  23  29  32  34\n",
              "2   8  12  26  27  34  38\n",
              "3   1  14  17  26  35  39\n",
              "4   1   7   8   9  11  30"
            ],
            "text/html": [
              "\n",
              "  <div id=\"df-9f17f800-5216-4f0d-90d1-4040c52eecca\">\n",
              "    <div class=\"colab-df-container\">\n",
              "      <div>\n",
              "<style scoped>\n",
              "    .dataframe tbody tr th:only-of-type {\n",
              "        vertical-align: middle;\n",
              "    }\n",
              "\n",
              "    .dataframe tbody tr th {\n",
              "        vertical-align: top;\n",
              "    }\n",
              "\n",
              "    .dataframe thead th {\n",
              "        text-align: right;\n",
              "    }\n",
              "</style>\n",
              "<table border=\"1\" class=\"dataframe\">\n",
              "  <thead>\n",
              "    <tr style=\"text-align: right;\">\n",
              "      <th></th>\n",
              "      <th>A</th>\n",
              "      <th>B</th>\n",
              "      <th>C</th>\n",
              "      <th>D</th>\n",
              "      <th>E</th>\n",
              "      <th>F</th>\n",
              "    </tr>\n",
              "  </thead>\n",
              "  <tbody>\n",
              "    <tr>\n",
              "      <th>0</th>\n",
              "      <td>3</td>\n",
              "      <td>14</td>\n",
              "      <td>18</td>\n",
              "      <td>22</td>\n",
              "      <td>25</td>\n",
              "      <td>33</td>\n",
              "    </tr>\n",
              "    <tr>\n",
              "      <th>1</th>\n",
              "      <td>13</td>\n",
              "      <td>20</td>\n",
              "      <td>23</td>\n",
              "      <td>29</td>\n",
              "      <td>32</td>\n",
              "      <td>34</td>\n",
              "    </tr>\n",
              "    <tr>\n",
              "      <th>2</th>\n",
              "      <td>8</td>\n",
              "      <td>12</td>\n",
              "      <td>26</td>\n",
              "      <td>27</td>\n",
              "      <td>34</td>\n",
              "      <td>38</td>\n",
              "    </tr>\n",
              "    <tr>\n",
              "      <th>3</th>\n",
              "      <td>1</td>\n",
              "      <td>14</td>\n",
              "      <td>17</td>\n",
              "      <td>26</td>\n",
              "      <td>35</td>\n",
              "      <td>39</td>\n",
              "    </tr>\n",
              "    <tr>\n",
              "      <th>4</th>\n",
              "      <td>1</td>\n",
              "      <td>7</td>\n",
              "      <td>8</td>\n",
              "      <td>9</td>\n",
              "      <td>11</td>\n",
              "      <td>30</td>\n",
              "    </tr>\n",
              "  </tbody>\n",
              "</table>\n",
              "</div>\n",
              "      <button class=\"colab-df-convert\" onclick=\"convertToInteractive('df-9f17f800-5216-4f0d-90d1-4040c52eecca')\"\n",
              "              title=\"Convert this dataframe to an interactive table.\"\n",
              "              style=\"display:none;\">\n",
              "        \n",
              "  <svg xmlns=\"http://www.w3.org/2000/svg\" height=\"24px\"viewBox=\"0 0 24 24\"\n",
              "       width=\"24px\">\n",
              "    <path d=\"M0 0h24v24H0V0z\" fill=\"none\"/>\n",
              "    <path d=\"M18.56 5.44l.94 2.06.94-2.06 2.06-.94-2.06-.94-.94-2.06-.94 2.06-2.06.94zm-11 1L8.5 8.5l.94-2.06 2.06-.94-2.06-.94L8.5 2.5l-.94 2.06-2.06.94zm10 10l.94 2.06.94-2.06 2.06-.94-2.06-.94-.94-2.06-.94 2.06-2.06.94z\"/><path d=\"M17.41 7.96l-1.37-1.37c-.4-.4-.92-.59-1.43-.59-.52 0-1.04.2-1.43.59L10.3 9.45l-7.72 7.72c-.78.78-.78 2.05 0 2.83L4 21.41c.39.39.9.59 1.41.59.51 0 1.02-.2 1.41-.59l7.78-7.78 2.81-2.81c.8-.78.8-2.07 0-2.86zM5.41 20L4 18.59l7.72-7.72 1.47 1.35L5.41 20z\"/>\n",
              "  </svg>\n",
              "      </button>\n",
              "      \n",
              "  <style>\n",
              "    .colab-df-container {\n",
              "      display:flex;\n",
              "      flex-wrap:wrap;\n",
              "      gap: 12px;\n",
              "    }\n",
              "\n",
              "    .colab-df-convert {\n",
              "      background-color: #E8F0FE;\n",
              "      border: none;\n",
              "      border-radius: 50%;\n",
              "      cursor: pointer;\n",
              "      display: none;\n",
              "      fill: #1967D2;\n",
              "      height: 32px;\n",
              "      padding: 0 0 0 0;\n",
              "      width: 32px;\n",
              "    }\n",
              "\n",
              "    .colab-df-convert:hover {\n",
              "      background-color: #E2EBFA;\n",
              "      box-shadow: 0px 1px 2px rgba(60, 64, 67, 0.3), 0px 1px 3px 1px rgba(60, 64, 67, 0.15);\n",
              "      fill: #174EA6;\n",
              "    }\n",
              "\n",
              "    [theme=dark] .colab-df-convert {\n",
              "      background-color: #3B4455;\n",
              "      fill: #D2E3FC;\n",
              "    }\n",
              "\n",
              "    [theme=dark] .colab-df-convert:hover {\n",
              "      background-color: #434B5C;\n",
              "      box-shadow: 0px 1px 3px 1px rgba(0, 0, 0, 0.15);\n",
              "      filter: drop-shadow(0px 1px 2px rgba(0, 0, 0, 0.3));\n",
              "      fill: #FFFFFF;\n",
              "    }\n",
              "  </style>\n",
              "\n",
              "      <script>\n",
              "        const buttonEl =\n",
              "          document.querySelector('#df-9f17f800-5216-4f0d-90d1-4040c52eecca button.colab-df-convert');\n",
              "        buttonEl.style.display =\n",
              "          google.colab.kernel.accessAllowed ? 'block' : 'none';\n",
              "\n",
              "        async function convertToInteractive(key) {\n",
              "          const element = document.querySelector('#df-9f17f800-5216-4f0d-90d1-4040c52eecca');\n",
              "          const dataTable =\n",
              "            await google.colab.kernel.invokeFunction('convertToInteractive',\n",
              "                                                     [key], {});\n",
              "          if (!dataTable) return;\n",
              "\n",
              "          const docLinkHtml = 'Like what you see? Visit the ' +\n",
              "            '<a target=\"_blank\" href=https://colab.research.google.com/notebooks/data_table.ipynb>data table notebook</a>'\n",
              "            + ' to learn more about interactive tables.';\n",
              "          element.innerHTML = '';\n",
              "          dataTable['output_type'] = 'display_data';\n",
              "          await google.colab.output.renderOutput(dataTable, element);\n",
              "          const docLink = document.createElement('div');\n",
              "          docLink.innerHTML = docLinkHtml;\n",
              "          element.appendChild(docLink);\n",
              "        }\n",
              "      </script>\n",
              "    </div>\n",
              "  </div>\n",
              "  "
            ]
          },
          "metadata": {},
          "execution_count": 8
        }
      ],
      "source": [
        "X.head()"
      ]
    },
    {
      "cell_type": "markdown",
      "metadata": {
        "id": "pAMbvdOrC5IU"
      },
      "source": [
        "Miramos la descripción de los datos, para verificar la completitud de ellos con la cantidad, tenemos el promedio, el valor mínimo, el valor máximo y la desviación estándar."
      ]
    },
    {
      "cell_type": "code",
      "execution_count": 9,
      "metadata": {
        "colab": {
          "base_uri": "https://localhost:8080/",
          "height": 300
        },
        "id": "Bolwl1IXCTqD",
        "outputId": "1e79c1cc-3cdc-4430-8c68-86c1f42e6e92"
      },
      "outputs": [
        {
          "output_type": "execute_result",
          "data": {
            "text/plain": [
              "                 A            B            C            D            E  \\\n",
              "count  4047.000000  4047.000000  4047.000000  4047.000000  4047.000000   \n",
              "mean      5.698542    11.428713    17.128737    22.948357    28.795404   \n",
              "std       4.635402     5.988067     6.698026     6.820599     6.616360   \n",
              "min       1.000000     2.000000     3.000000     4.000000     7.000000   \n",
              "25%       2.000000     7.000000    12.000000    18.000000    24.000000   \n",
              "50%       4.000000    10.000000    17.000000    23.000000    29.000000   \n",
              "75%       8.000000    15.000000    22.000000    28.000000    33.000000   \n",
              "max      31.000000    37.000000    44.000000    46.000000    48.000000   \n",
              "\n",
              "                 F  \n",
              "count  4047.000000  \n",
              "mean     34.635285  \n",
              "std       5.910514  \n",
              "min      13.000000  \n",
              "25%      31.000000  \n",
              "50%      35.000000  \n",
              "75%      38.000000  \n",
              "max      49.000000  "
            ],
            "text/html": [
              "\n",
              "  <div id=\"df-d2befde3-9b05-4687-860f-63f8538e73b8\">\n",
              "    <div class=\"colab-df-container\">\n",
              "      <div>\n",
              "<style scoped>\n",
              "    .dataframe tbody tr th:only-of-type {\n",
              "        vertical-align: middle;\n",
              "    }\n",
              "\n",
              "    .dataframe tbody tr th {\n",
              "        vertical-align: top;\n",
              "    }\n",
              "\n",
              "    .dataframe thead th {\n",
              "        text-align: right;\n",
              "    }\n",
              "</style>\n",
              "<table border=\"1\" class=\"dataframe\">\n",
              "  <thead>\n",
              "    <tr style=\"text-align: right;\">\n",
              "      <th></th>\n",
              "      <th>A</th>\n",
              "      <th>B</th>\n",
              "      <th>C</th>\n",
              "      <th>D</th>\n",
              "      <th>E</th>\n",
              "      <th>F</th>\n",
              "    </tr>\n",
              "  </thead>\n",
              "  <tbody>\n",
              "    <tr>\n",
              "      <th>count</th>\n",
              "      <td>4047.000000</td>\n",
              "      <td>4047.000000</td>\n",
              "      <td>4047.000000</td>\n",
              "      <td>4047.000000</td>\n",
              "      <td>4047.000000</td>\n",
              "      <td>4047.000000</td>\n",
              "    </tr>\n",
              "    <tr>\n",
              "      <th>mean</th>\n",
              "      <td>5.698542</td>\n",
              "      <td>11.428713</td>\n",
              "      <td>17.128737</td>\n",
              "      <td>22.948357</td>\n",
              "      <td>28.795404</td>\n",
              "      <td>34.635285</td>\n",
              "    </tr>\n",
              "    <tr>\n",
              "      <th>std</th>\n",
              "      <td>4.635402</td>\n",
              "      <td>5.988067</td>\n",
              "      <td>6.698026</td>\n",
              "      <td>6.820599</td>\n",
              "      <td>6.616360</td>\n",
              "      <td>5.910514</td>\n",
              "    </tr>\n",
              "    <tr>\n",
              "      <th>min</th>\n",
              "      <td>1.000000</td>\n",
              "      <td>2.000000</td>\n",
              "      <td>3.000000</td>\n",
              "      <td>4.000000</td>\n",
              "      <td>7.000000</td>\n",
              "      <td>13.000000</td>\n",
              "    </tr>\n",
              "    <tr>\n",
              "      <th>25%</th>\n",
              "      <td>2.000000</td>\n",
              "      <td>7.000000</td>\n",
              "      <td>12.000000</td>\n",
              "      <td>18.000000</td>\n",
              "      <td>24.000000</td>\n",
              "      <td>31.000000</td>\n",
              "    </tr>\n",
              "    <tr>\n",
              "      <th>50%</th>\n",
              "      <td>4.000000</td>\n",
              "      <td>10.000000</td>\n",
              "      <td>17.000000</td>\n",
              "      <td>23.000000</td>\n",
              "      <td>29.000000</td>\n",
              "      <td>35.000000</td>\n",
              "    </tr>\n",
              "    <tr>\n",
              "      <th>75%</th>\n",
              "      <td>8.000000</td>\n",
              "      <td>15.000000</td>\n",
              "      <td>22.000000</td>\n",
              "      <td>28.000000</td>\n",
              "      <td>33.000000</td>\n",
              "      <td>38.000000</td>\n",
              "    </tr>\n",
              "    <tr>\n",
              "      <th>max</th>\n",
              "      <td>31.000000</td>\n",
              "      <td>37.000000</td>\n",
              "      <td>44.000000</td>\n",
              "      <td>46.000000</td>\n",
              "      <td>48.000000</td>\n",
              "      <td>49.000000</td>\n",
              "    </tr>\n",
              "  </tbody>\n",
              "</table>\n",
              "</div>\n",
              "      <button class=\"colab-df-convert\" onclick=\"convertToInteractive('df-d2befde3-9b05-4687-860f-63f8538e73b8')\"\n",
              "              title=\"Convert this dataframe to an interactive table.\"\n",
              "              style=\"display:none;\">\n",
              "        \n",
              "  <svg xmlns=\"http://www.w3.org/2000/svg\" height=\"24px\"viewBox=\"0 0 24 24\"\n",
              "       width=\"24px\">\n",
              "    <path d=\"M0 0h24v24H0V0z\" fill=\"none\"/>\n",
              "    <path d=\"M18.56 5.44l.94 2.06.94-2.06 2.06-.94-2.06-.94-.94-2.06-.94 2.06-2.06.94zm-11 1L8.5 8.5l.94-2.06 2.06-.94-2.06-.94L8.5 2.5l-.94 2.06-2.06.94zm10 10l.94 2.06.94-2.06 2.06-.94-2.06-.94-.94-2.06-.94 2.06-2.06.94z\"/><path d=\"M17.41 7.96l-1.37-1.37c-.4-.4-.92-.59-1.43-.59-.52 0-1.04.2-1.43.59L10.3 9.45l-7.72 7.72c-.78.78-.78 2.05 0 2.83L4 21.41c.39.39.9.59 1.41.59.51 0 1.02-.2 1.41-.59l7.78-7.78 2.81-2.81c.8-.78.8-2.07 0-2.86zM5.41 20L4 18.59l7.72-7.72 1.47 1.35L5.41 20z\"/>\n",
              "  </svg>\n",
              "      </button>\n",
              "      \n",
              "  <style>\n",
              "    .colab-df-container {\n",
              "      display:flex;\n",
              "      flex-wrap:wrap;\n",
              "      gap: 12px;\n",
              "    }\n",
              "\n",
              "    .colab-df-convert {\n",
              "      background-color: #E8F0FE;\n",
              "      border: none;\n",
              "      border-radius: 50%;\n",
              "      cursor: pointer;\n",
              "      display: none;\n",
              "      fill: #1967D2;\n",
              "      height: 32px;\n",
              "      padding: 0 0 0 0;\n",
              "      width: 32px;\n",
              "    }\n",
              "\n",
              "    .colab-df-convert:hover {\n",
              "      background-color: #E2EBFA;\n",
              "      box-shadow: 0px 1px 2px rgba(60, 64, 67, 0.3), 0px 1px 3px 1px rgba(60, 64, 67, 0.15);\n",
              "      fill: #174EA6;\n",
              "    }\n",
              "\n",
              "    [theme=dark] .colab-df-convert {\n",
              "      background-color: #3B4455;\n",
              "      fill: #D2E3FC;\n",
              "    }\n",
              "\n",
              "    [theme=dark] .colab-df-convert:hover {\n",
              "      background-color: #434B5C;\n",
              "      box-shadow: 0px 1px 3px 1px rgba(0, 0, 0, 0.15);\n",
              "      filter: drop-shadow(0px 1px 2px rgba(0, 0, 0, 0.3));\n",
              "      fill: #FFFFFF;\n",
              "    }\n",
              "  </style>\n",
              "\n",
              "      <script>\n",
              "        const buttonEl =\n",
              "          document.querySelector('#df-d2befde3-9b05-4687-860f-63f8538e73b8 button.colab-df-convert');\n",
              "        buttonEl.style.display =\n",
              "          google.colab.kernel.accessAllowed ? 'block' : 'none';\n",
              "\n",
              "        async function convertToInteractive(key) {\n",
              "          const element = document.querySelector('#df-d2befde3-9b05-4687-860f-63f8538e73b8');\n",
              "          const dataTable =\n",
              "            await google.colab.kernel.invokeFunction('convertToInteractive',\n",
              "                                                     [key], {});\n",
              "          if (!dataTable) return;\n",
              "\n",
              "          const docLinkHtml = 'Like what you see? Visit the ' +\n",
              "            '<a target=\"_blank\" href=https://colab.research.google.com/notebooks/data_table.ipynb>data table notebook</a>'\n",
              "            + ' to learn more about interactive tables.';\n",
              "          element.innerHTML = '';\n",
              "          dataTable['output_type'] = 'display_data';\n",
              "          await google.colab.output.renderOutput(dataTable, element);\n",
              "          const docLink = document.createElement('div');\n",
              "          docLink.innerHTML = docLinkHtml;\n",
              "          element.appendChild(docLink);\n",
              "        }\n",
              "      </script>\n",
              "    </div>\n",
              "  </div>\n",
              "  "
            ]
          },
          "metadata": {},
          "execution_count": 9
        }
      ],
      "source": [
        "X.describe()"
      ]
    },
    {
      "cell_type": "markdown",
      "metadata": {
        "id": "nysDDIMJgc-X"
      },
      "source": [
        "![image.png](data:image/png;base64,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)"
      ]
    },
    {
      "cell_type": "markdown",
      "metadata": {
        "id": "Jig_M8JDXGUP"
      },
      "source": [
        "Una vez los datos están depurados se procede a implementar el modelo\n",
        "\\begin{gather}\n",
        "  P_i(x) = X^tW_iX + w^t_iX + w_{io}\n",
        "\\end{gather}\n",
        "\n",
        "Los valores de \\begin{gather}\n",
        "  P_i(x) = X^t\\  y\\  de\\  X, son\\ la\\ transpuesta\\ del\\ resultado\\ y\\ el\\ resultado\\ de\\ los\\ sorteos,\\  En\\ sintesis\\ nuestros\\ datos.\n",
        "\\end{gather}\n",
        "\n",
        "\\begin{gather}\n",
        " W_i = - 1/2\\sum_i^{-1},\\ donde\n",
        "\\end{gather}\n",
        "\n",
        "\\\n",
        "\\begin{gather}\n",
        " \\sum_i^{-1},\\ es\\ la\\ invertida\\ de\\ la\\ matriz\\ de\\ covarianza\n",
        "\\end{gather}\n",
        "\n",
        "Primero encontramos la matriz de covarianza para nuestros datos que están en X y su invertida"
      ]
    },
    {
      "cell_type": "code",
      "execution_count": 10,
      "metadata": {
        "colab": {
          "base_uri": "https://localhost:8080/"
        },
        "id": "N-zl5qV6AKO7",
        "outputId": "1abdec22-aa11-43df-cf8a-12fe64fc4b04"
      },
      "outputs": [
        {
          "output_type": "stream",
          "name": "stdout",
          "text": [
            "╒══════════╤═════════╤═════════╤═════════╤══════════╤══════════╕\n",
            "│        A │       B │       C │       D │        E │        F │\n",
            "╞══════════╪═════════╪═════════╪═════════╪══════════╪══════════╡\n",
            "│ 21.487   │ 18.2934 │ 15.5588 │ 11.741  │  8.44696 │  5.82058 │\n",
            "├──────────┼─────────┼─────────┼─────────┼──────────┼──────────┤\n",
            "│ 18.2934  │ 35.8569 │ 29.8012 │ 22.9052 │ 16.6132  │ 11.108   │\n",
            "├──────────┼─────────┼─────────┼─────────┼──────────┼──────────┤\n",
            "│ 15.5588  │ 29.8012 │ 44.8636 │ 34.7669 │ 25.4465  │ 16.629   │\n",
            "├──────────┼─────────┼─────────┼─────────┼──────────┼──────────┤\n",
            "│ 11.741   │ 22.9052 │ 34.7669 │ 46.5206 │ 33.8206  │ 22.0125  │\n",
            "├──────────┼─────────┼─────────┼─────────┼──────────┼──────────┤\n",
            "│  8.44696 │ 16.6132 │ 25.4465 │ 33.8206 │ 43.7762  │ 29.0645  │\n",
            "├──────────┼─────────┼─────────┼─────────┼──────────┼──────────┤\n",
            "│  5.82058 │ 11.108  │ 16.629  │ 22.0125 │ 29.0645  │ 34.9342  │\n",
            "╘══════════╧═════════╧═════════╧═════════╧══════════╧══════════╛\n",
            "╒══════════════╤══════════════╤══════════════╤══════════════╤══════════════╤══════════════╕\n",
            "│            A │            B │            C │            D │            E │            F │\n",
            "╞══════════════╪══════════════╪══════════════╪══════════════╪══════════════╪══════════════╡\n",
            "│  0.082352    │ -0.0407762   │ -0.00219944  │  0.000685256 │  0.00095294  │ -0.000933232 │\n",
            "├──────────────┼──────────────┼──────────────┼──────────────┼──────────────┼──────────────┤\n",
            "│ -0.0407762   │  0.0824804   │ -0.0407555   │ -0.000121579 │  0.000718456 │ -0.00055326  │\n",
            "├──────────────┼──────────────┼──────────────┼──────────────┼──────────────┼──────────────┤\n",
            "│ -0.00219944  │ -0.0407555   │  0.0811377   │ -0.0394125   │ -0.00115417  │  0.000497659 │\n",
            "├──────────────┼──────────────┼──────────────┼──────────────┼──────────────┼──────────────┤\n",
            "│  0.000685256 │ -0.000121579 │ -0.0394125   │  0.0781578   │ -0.0385759   │  0.00153114  │\n",
            "├──────────────┼──────────────┼──────────────┼──────────────┼──────────────┼──────────────┤\n",
            "│  0.00095294  │  0.000718456 │ -0.00115417  │ -0.0385759   │  0.0817984   │ -0.0435852   │\n",
            "├──────────────┼──────────────┼──────────────┼──────────────┼──────────────┼──────────────┤\n",
            "│ -0.000933232 │ -0.00055326  │  0.000497659 │  0.00153114  │ -0.0435852   │  0.064017    │\n",
            "╘══════════════╧══════════════╧══════════════╧══════════════╧══════════════╧══════════════╛\n"
          ]
        }
      ],
      "source": [
        "headers = [\"A\", \"B\", \"C\", \"D\", \"E\", \"F\"]\n",
        "Matriz_covarianza = np.cov(X, rowvar=False)\n",
        "print(tabulate(Matriz_covarianza, headers, tablefmt=\"fancy_grid\"))\n",
        "Matriz_cov_invertida = np.linalg.inv(Matriz_covarianza)\n",
        "print(tabulate(Matriz_cov_invertida, headers, tablefmt=\"fancy_grid\"))"
      ]
    },
    {
      "cell_type": "markdown",
      "metadata": {
        "id": "sBmXvNkKTDsb"
      },
      "source": [
        "![image.png](data:image/png;base64,iVBORw0KGgoAAAANSUhEUgAAAF0AAAAiCAIAAACyZ0KAAAAD8ElEQVRoge2ZX2hTVxzHfycU2ayDIht40oGDFLeBZWD6sj3dWrw+KFgUfQhyM/KwDsJahZJQ6UA7aMZu2F6ciCNhday+eIqIY6PhBgaO0XEjG5bVBBWntzcPFSW5UZMmuWcPiUm898bGeJPmQj5v55yc+/ud7/n9zr8gSil00WHbbAc6lK4uxnR1MaarizGW0iWTiATddvdCsvWmelpvwhzUxPz01ez2mzeScKgN5iwTL7ZdrtnJY8ODb7fJXHvMdCrpROQ7t/3zhWRB02CZPDIf9dbc9K9vbP87knxTn5nWipdsak0x7WO2D9yzJ48MD241bHyxuJ6MnhlGCCE0EIwVAACyifAxhEqRpqajp+wIIYTQ/nBCNc3DhkguuNE7I9/E4OIROxoOxjKl6kIsOIDqMBCMFQx/UO1eF6qhuBJiMbCheJFSSmlK8GEAGCNynlJK6ZrgcwJzWpBz2o6bRfEe8ewGYKcEqaipdPBifoPeeZF3VEdXRZdHtt6+HVthR99bNgDIJi6Hrr//Ca60Zu7e+As8X3zK4C3mRcLrYds5OnPGgxcDxwNXVterlf6T7Mad1aepR08NW3QK3iecAzgiU0pTgs/h4QOu5/GSk4jX4SE189Ih5CTixQD41Xy7TzhHRQdNbOl1WRN8TuCITHMSmWD563EyVtYlJfjw0VD82cts5UXeYag/ADC8qDTu9atRzqbdHnLPlFnT66KIPAMckZUlnp0g0hO5rMuayI8y/JK5I3uZjDUz2EikFyXiwQDYSyQT1r56+3T2weJ8ZJ+L7S+vI+oD4dz5D7/8bGhbqZyO+u1D/ujDeoNqkB7n5O16rt2edD4/XRm2az5l6z84c9aLk9/7Lt3UntKa8FZnThF5BhgXx04QKUdpXiZjgEc5F9NQiG5WHlFaXmVM2iv1ujyLh44CAPYJKUrLugBUd25KqUw4Tc3mU1RWfuTwAV58rG1pylu9LiUhKutrqaixp4g8y4ZWOkgWZYlnnC9EtEy48jbajLf6+1EPPny+Jnk1RQAAUKV/IrBv9t1OuUSoq9HZmV8+DsyP7qy4VJDv/gFwCJr0tqmhZeT4HedHvf9eiyXbdxkoPUohhNCgO7xcc4xfX70SOP7nSPDUCK6MRv3v6rm5O6/jbRMxW9oRMXd2qX23AUXkWWZqUS7mJOLFeEpIldKiqIjfMvXG5uDFfJPeImqx/4/UdHR6z89Dv/9wuL+VaWy195eMeGGu98LXB1sqCgBYKl4yy+GvfnvvxPje1t9aO2VL2ZjMcnjip77x8b04HfX79S+PJtOSVdJ8Hov8gRqvDV5MzMVSedRGrJNH7aWrizFdXYzp6mLM/zI3i5LQGNDfAAAAAElFTkSuQmCC)"
      ]
    },
    {
      "cell_type": "code",
      "execution_count": 11,
      "metadata": {
        "colab": {
          "base_uri": "https://localhost:8080/"
        },
        "id": "UcXWTvTLGsSK",
        "outputId": "d9b12be1-1e8d-44bc-82b8-afc757cebac7"
      },
      "outputs": [
        {
          "output_type": "stream",
          "name": "stdout",
          "text": [
            "╒══════════════╤══════════════╤══════════════╤══════════════╤══════════════╤══════════════╕\n",
            "│            A │            B │            C │            D │            E │            F │\n",
            "╞══════════════╪══════════════╪══════════════╪══════════════╪══════════════╪══════════════╡\n",
            "│ -0.041176    │  0.0203881   │  0.00109972  │ -0.000342628 │ -0.00047647  │  0.000466616 │\n",
            "├──────────────┼──────────────┼──────────────┼──────────────┼──────────────┼──────────────┤\n",
            "│  0.0203881   │ -0.0412402   │  0.0203778   │  6.07897e-05 │ -0.000359228 │  0.00027663  │\n",
            "├──────────────┼──────────────┼──────────────┼──────────────┼──────────────┼──────────────┤\n",
            "│  0.00109972  │  0.0203778   │ -0.0405689   │  0.0197062   │  0.000577084 │ -0.000248829 │\n",
            "├──────────────┼──────────────┼──────────────┼──────────────┼──────────────┼──────────────┤\n",
            "│ -0.000342628 │  6.07897e-05 │  0.0197062   │ -0.0390789   │  0.0192879   │ -0.000765569 │\n",
            "├──────────────┼──────────────┼──────────────┼──────────────┼──────────────┼──────────────┤\n",
            "│ -0.00047647  │ -0.000359228 │  0.000577084 │  0.0192879   │ -0.0408992   │  0.0217926   │\n",
            "├──────────────┼──────────────┼──────────────┼──────────────┼──────────────┼──────────────┤\n",
            "│  0.000466616 │  0.00027663  │ -0.000248829 │ -0.000765569 │  0.0217926   │ -0.0320085   │\n",
            "╘══════════════╧══════════════╧══════════════╧══════════════╧══════════════╧══════════════╛\n"
          ]
        },
        {
          "output_type": "execute_result",
          "data": {
            "text/plain": [
              "(6, 6)"
            ]
          },
          "metadata": {},
          "execution_count": 11
        }
      ],
      "source": [
        "Wi = -1/2 * (Matriz_cov_invertida)\n",
        "print(tabulate(Wi, headers, tablefmt=\"fancy_grid\"))\n",
        "Wi.shape"
      ]
    },
    {
      "cell_type": "markdown",
      "metadata": {
        "id": "q9cNHTSOS-2j"
      },
      "source": [
        "Para encontrar\\begin{gather}w_i\\end{gather}\n",
        "Primero debemos encontrar \\begin{gather}  u_i,\\ el\\ vector\\ de\\ medias\\ de\\ nuestros\\ datos\n",
        "\\end{gather}\n",
        "![image.png](data:image/png;base64,iVBORw0KGgoAAAANSUhEUgAAAFoAAAAfCAIAAADoX02KAAADWklEQVRoge2YT2jTUBzHfxuih4mI7ODrPAgZClKZUo8eMsUenOBgVHBIBr30UNTL7MgYMmQ4MKWXDT1FdtKDviGy00bqDsoopI4xpHRuY44uFStsaer+mKXPQ9PZdG1t+oc5yOf0yJ/f++ab3/u+tA2EELDI0njQAv4vLDsMWHYYsOwwYNlh4HDakVqY8vfYesbjtS58pNYF60564dXA++1T85/jcLvmxQ9fdzSe637ae6f9YnNditejaBmkwv72hiK0+sO7BS9o9Yd36yvroOw4fvnufTcCoAcFaYdk0WLYjfQLHL0fSB6LvY46L+4DWyyNLbeejHrR9OC9gYm19N7Bm31DrjLu3pYTSl1kGexXRY4CAJoTFUIIkTCjjxOCzwGAnHxEy39lVaCtYLcdwO7GKybKSpj5K5/mRIVoUijAIEA0F1IIIWQryrsAsYJsWqzRDqLJAot0CzJjisGrWREuPrpVvJQicnQx0ylOVAvdo68O5MWxnULny0GThSEPng9xNDBYIkR/efrYHJB/QMIMOHxCIvvqMnZossBSPkGuVHJxdmLYiwCQG8eqarxVzNj15lVFjqqwkfdlR9PJ02jj+8av1Oz4SOy6rxs+Lf/YTS+8DWw+e3D1BADAz2DfFVtfMFmbxXq0pfPRqNsefznyejZlPJVOBvtttv5gMl341lySX0NTxy6dbW4ESC/PTS2dv9F2JvtsZgTn+5OxlnsxTHdyYlTwOZDvzQz/0PPv5V3JYiEkkyAOmp2UKu8OTRZYpIfFush1VBYcpMBiIauYoUCPJf0Jczo5c7Z0iJhCjvBuRAdEJU+9KmFP2eGtStgDiBXk9QjvddIOoIaF+TE3K8gmBe+3IyH4HKDry0xjyDlV5CgnH63NBqMpYoA21Fcl7NFTUBU5qszH0JTIGIMAwOnDXyQxQAMgZiyiZJOkbMH77SjNVpR3lep8M2jSJEt3sEJuhipidoPQoryzBjOZE2z2MywVi252tR2ZmwjHywi4UqS/vRtgZzoe919r2RORXpt8HpjODFOxxaWuC01zwXD8dxXTmBRszuvM7ouYQKiK4CNED7wiUJyo6huwnQl8rGomk4IbiPVPeg6H7wd+XbHsMGDZYcCyw4BlhwHLDgOWHQYsOwz8Adqj2OS8Nl66AAAAAElFTkSuQmCC)"
      ]
    },
    {
      "cell_type": "markdown",
      "metadata": {
        "id": "6RJ9t8cutLnP"
      },
      "source": [
        "Se calcula el vector de medias"
      ]
    },
    {
      "cell_type": "code",
      "execution_count": 12,
      "metadata": {
        "id": "P866ioGUvTEw",
        "colab": {
          "base_uri": "https://localhost:8080/"
        },
        "outputId": "d9ee24d3-19fe-4a17-b039-061eeea671b5"
      },
      "outputs": [
        {
          "output_type": "stream",
          "name": "stdout",
          "text": [
            "╒═════════╤═════════╤═════════╤═════════╤═════════╤═════════╕\n",
            "│       A │       B │       C │       D │       E │       F │\n",
            "╞═════════╪═════════╪═════════╪═════════╪═════════╪═════════╡\n",
            "│ 5.69854 │ 11.4287 │ 17.1287 │ 22.9484 │ 28.7954 │ 34.6353 │\n",
            "╘═════════╧═════════╧═════════╧═════════╧═════════╧═════════╛\n"
          ]
        }
      ],
      "source": [
        "ui = np.array([X.mean()])\n",
        "print(tabulate(ui, headers, tablefmt=\"fancy_grid\"))"
      ]
    },
    {
      "cell_type": "markdown",
      "metadata": {
        "id": "WK-3Vzadsx9b"
      },
      "source": [
        "Como ya tenemos la matriz de covarianza invertida.  Se realizó un método capaz de multiplicar un vector por una matriz"
      ]
    },
    {
      "cell_type": "code",
      "execution_count": 13,
      "metadata": {
        "id": "fIjBaramIIfq"
      },
      "outputs": [],
      "source": [
        "def multiplicarVxM(vector, matriz):\n",
        "  resultado = []\n",
        "  linea = []\n",
        "  for i in range(6):\n",
        "    valor = 0\n",
        "    for j in range(6):\n",
        "      valor = valor + matriz[j][i] * vector[0][j]\n",
        "    linea.append(valor)\n",
        "  resultado.append(np.array(linea))\n",
        "  return (np.array(resultado))"
      ]
    },
    {
      "cell_type": "markdown",
      "metadata": {
        "id": "TQ_sdukctFkt"
      },
      "source": [
        "Se calcula el valor para wi, multiplicando la matriz de covarianza invertida por el vector de medias"
      ]
    },
    {
      "cell_type": "code",
      "execution_count": 14,
      "metadata": {
        "id": "mNlM_m3EBn97",
        "colab": {
          "base_uri": "https://localhost:8080/"
        },
        "outputId": "a48136e0-d94e-4bc5-d2b1-f3adbbc44214"
      },
      "outputs": [
        {
          "output_type": "stream",
          "name": "stdout",
          "text": [
            "╒════════════╤═══════════╤═════════════╤═══════════╤════════════╤══════════╕\n",
            "│          A │         B │           C │         D │          E │        F │\n",
            "╞════════════╪═══════════╪═════════════╪═══════════╪════════════╪══════════╡\n",
            "│ -0.0235644 │ 0.0109244 │ -0.00897901 │ 0.0632464 │ -0.0455475 │ 0.994213 │\n",
            "╘════════════╧═══════════╧═════════════╧═══════════╧════════════╧══════════╛\n"
          ]
        }
      ],
      "source": [
        "wi = multiplicarVxM(vector=ui,matriz=Matriz_cov_invertida)\n",
        "print(tabulate(wi, headers, tablefmt=\"fancy_grid\"))"
      ]
    },
    {
      "cell_type": "markdown",
      "metadata": {
        "id": "2FJC2rCrtzsq"
      },
      "source": [
        "Pasamos a calcular la constante wio"
      ]
    },
    {
      "cell_type": "markdown",
      "metadata": {
        "id": "SAHUC88JS2U8"
      },
      "source": [
        "![image.png](data:image/png;base64,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)"
      ]
    },
    {
      "cell_type": "markdown",
      "metadata": {
        "id": "_T2FjaXjFkGF"
      },
      "source": [
        "Construimos un método para multiplicar dos vectores"
      ]
    },
    {
      "cell_type": "code",
      "execution_count": 15,
      "metadata": {
        "id": "AGNfB1AC7gW2"
      },
      "outputs": [],
      "source": [
        "def multiplicar_vectores(ui, uit):\n",
        "  acumulado = 0\n",
        "  for i in range(6):\n",
        "    producto = ui[0][i] * uit[i][0]\n",
        "    acumulado = acumulado + producto\n",
        "  return acumulado"
      ]
    },
    {
      "cell_type": "markdown",
      "metadata": {
        "id": "8lDvnTDyGbh0"
      },
      "source": [
        "Se procede a encontrar el valor de wio, multiplicando -1/2 por la multiplicación de la traspuesta del vector de medias por la matriz de covarianza invertida por el vector de medias, luego se le muma -1/2 por el logaritmo natural de la determinante de la matriz de covarianza, más el logaritmo natural de la constante k, para nuestro caso 6"
      ]
    },
    {
      "cell_type": "code",
      "execution_count": 16,
      "metadata": {
        "colab": {
          "base_uri": "https://localhost:8080/"
        },
        "id": "A-wkZxUL0Ya9",
        "outputId": "e287d440-4148-4218-e87f-47b3950afab2"
      },
      "outputs": [
        {
          "output_type": "execute_result",
          "data": {
            "text/plain": [
              "-24.29097030868664"
            ]
          },
          "metadata": {},
          "execution_count": 16
        }
      ],
      "source": [
        "wio = -1/2 * (multiplicar_vectores(multiplicarVxM(vector=ui,matriz=Matriz_cov_invertida), uit=ui.T)) - 1/2 * np.log(np.linalg.det(Matriz_covarianza)) + np.log(6)\n",
        "wio"
      ]
    },
    {
      "cell_type": "markdown",
      "metadata": {
        "id": "DdIqrugEv0Cs"
      },
      "source": [
        "Se crea un método para extraer los valores de cada fila de resultados, es decir por cada sorteo"
      ]
    },
    {
      "cell_type": "code",
      "execution_count": 17,
      "metadata": {
        "id": "4SbFCHqBQcTj"
      },
      "outputs": [],
      "source": [
        "def getXi(i):\n",
        "  x = np.array(X.iloc[i])\n",
        "  X1 = []\n",
        "  X1.append(x)\n",
        "  X1 = np.array(X1)\n",
        "  return X1"
      ]
    },
    {
      "cell_type": "markdown",
      "metadata": {
        "id": "1_UUwiMbOLQP"
      },
      "source": [
        "![image.png](data:image/png;base64,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)"
      ]
    },
    {
      "cell_type": "markdown",
      "metadata": {
        "id": "ivkNQnfdvmzo"
      },
      "source": [
        "Implementamos el modelo para cada una de las filas o sorteos en nuestros datos, donde X es el valor de la fila actual que procesamos, los valores son almacenados en cuatro listas con diferentes dígitos de precisión para ver su comportamiento gráficamente\n",
        "\\begin{gather}\n",
        "  P_i(x) = X^tW_iX + w^t_iX + w_{io}\n",
        "\\end{gather}"
      ]
    },
    {
      "cell_type": "code",
      "execution_count": 18,
      "metadata": {
        "id": "w99XtsDtTMAL"
      },
      "outputs": [],
      "source": [
        "resultados_4 = []\n",
        "resultados_3 = []\n",
        "resultados_2 = []\n",
        "resultados_1 = []\n",
        "for i in range(len(X)):\n",
        "  Xi = getXi(i)\n",
        "  Px = multiplicar_vectores(multiplicarVxM(Xi,Wi),Xi.T) + multiplicar_vectores(Xi,wi.T) + wio\n",
        "  resultados_4.append(round(Px,4))\n",
        "  resultados_3.append(round(Px,3))\n",
        "  resultados_2.append(round(Px,2))\n",
        "  resultados_1.append(round(Px,1))"
      ]
    },
    {
      "cell_type": "markdown",
      "metadata": {
        "id": "CnZjXuXHieeW"
      },
      "source": [
        "De la siguiente forma se aprecia más detallada con el número de filas y columnas especificados para cada vector y/o matriz\n",
        "\n",
        "\\begin{gather}\n",
        "  P_{resultados}(x) = X^t_{(1xk)}W_{i\\_resultados(kxk)}X_{kx1} + w^t_{i\\_resultados(1xk)}X_{(kx1)} + w_{io\\_resultados}\n",
        "\\end{gather}"
      ]
    },
    {
      "cell_type": "markdown",
      "metadata": {
        "id": "W5r2szwqIcM1"
      },
      "source": [
        "Verificamos, que los vectores y matrices tengan las dimensiones sugeridas en el modelo"
      ]
    },
    {
      "cell_type": "code",
      "execution_count": 19,
      "metadata": {
        "colab": {
          "base_uri": "https://localhost:8080/"
        },
        "id": "ON0IxqBdztHN",
        "outputId": "1af311e3-f0d2-441e-dd7c-318efbacdedd"
      },
      "outputs": [
        {
          "output_type": "stream",
          "name": "stdout",
          "text": [
            "Vector de medias: (1, 6)\n",
            "Vector de medias traspuesto: (6, 1)\n",
            "Matriz de Wi: (6, 6)\n",
            "Matriz wi traspuesta: (6, 1)\n"
          ]
        }
      ],
      "source": [
        "print(f'Vector de medias: {ui.shape}')\n",
        "print(f'Vector de medias traspuesto: {ui.T.shape}')\n",
        "print(f'Matriz de Wi: {Wi.shape}')\n",
        "print(f'Matriz wi traspuesta: {wi.T.shape}')"
      ]
    },
    {
      "cell_type": "markdown",
      "source": [
        "Creamos los vectores de frecuencias para graficar e identificar el valor P(x) con mayor frecuencia para el modelo, para ello lo hacemos con 4, 3, 2 y 1 dígito de precisión"
      ],
      "metadata": {
        "id": "RdEE66mf6_ME"
      }
    },
    {
      "cell_type": "code",
      "source": [
        "elementos_4, frecuencias_4 = np.unique(np.array(resultados_4), return_counts=True)\n",
        "elementos_3, frecuencias_3 = np.unique(np.array(resultados_3), return_counts=True)\n",
        "elementos_2, frecuencias_2 = np.unique(np.array(resultados_2), return_counts=True)\n",
        "elementos_1, frecuencias_1 = np.unique(np.array(resultados_1), return_counts=True)"
      ],
      "metadata": {
        "id": "L8voSt-MAC4u"
      },
      "execution_count": 20,
      "outputs": []
    },
    {
      "cell_type": "code",
      "execution_count": 21,
      "metadata": {
        "colab": {
          "base_uri": "https://localhost:8080/"
        },
        "id": "t0IxJGOkemJo",
        "outputId": "699b4c7e-f491-4726-b007-c53578499f16"
      },
      "outputs": [
        {
          "output_type": "stream",
          "name": "stdout",
          "text": [
            "Elemento: -8.7 Frecuencia: 138\n"
          ]
        }
      ],
      "source": [
        "valor_frecuencia = 0\n",
        "elemento_frecuencia = ''\n",
        "for elemento, frecuencia in zip(elementos_1, frecuencias_1):\n",
        "  if frecuencia > valor_frecuencia :\n",
        "    valor_frecuencia = frecuencia\n",
        "    elemento_frecuencia = elemento\n",
        "print(\"Elemento:\", elemento_frecuencia, \"Frecuencia:\", valor_frecuencia)"
      ]
    },
    {
      "cell_type": "markdown",
      "source": [
        "El elemento con mayor frecuencia es -8.7 pero solo con un dígito de precisión, como se puede apreciar en la siguiente gráfica"
      ],
      "metadata": {
        "id": "C9_gs3uEGipE"
      }
    },
    {
      "cell_type": "code",
      "execution_count": 20,
      "metadata": {
        "colab": {
          "base_uri": "https://localhost:8080/",
          "height": 472
        },
        "id": "mSg8qJhH1UMe",
        "outputId": "81215510-63d9-45f5-fba8-1f94a73d04f4"
      },
      "outputs": [
        {
          "output_type": "display_data",
          "data": {
            "text/plain": [
              "<Figure size 640x480 with 1 Axes>"
            ],
            "image/png": "[encoded data removed]"
          },
          "metadata": {}
        }
      ],
      "source": [
        "plt.plot(elementos_1,frecuencias_1,marker =\".\")\n",
        "plt.xlabel('P(x)')\n",
        "plt.ylabel('Frecuencia')\n",
        "plt.title('P(x) Vs Frecuencia, 1 digito')\n",
        "plt.grid()\n",
        "plt.show()"
      ]
    },
    {
      "cell_type": "markdown",
      "source": [
        "Identificamos el rango de mayor frecuencia en nuestro caso son los mayores a 120 y encontramos los límites de estos elementos, obteniendo que los valores P(x) con mayor frecuencia se encuentran entre -9.4 y -8.7"
      ],
      "metadata": {
        "id": "u_assK4IHBCt"
      }
    },
    {
      "cell_type": "code",
      "source": [
        "valor_frecuencia = 0\n",
        "elemento_frecuencia = ''\n",
        "for elemento, frecuencia in zip(elementos_1, frecuencias_1):\n",
        "  if frecuencia > valor_frecuencia :\n",
        "    valor_frecuencia = frecuencia\n",
        "    elemento_frecuencia = elemento\n",
        "  if frecuencia > 120 :\n",
        "    print(\"Elemento:\", elemento_frecuencia, \"Frecuencia:\", valor_frecuencia)"
      ],
      "metadata": {
        "colab": {
          "base_uri": "https://localhost:8080/"
        },
        "id": "vaHpyGh8AlL8",
        "outputId": "951c8f56-618d-46b2-c914-7ea2044cdb72"
      },
      "execution_count": 21,
      "outputs": [
        {
          "output_type": "stream",
          "name": "stdout",
          "text": [
            "Elemento: -9.4 Frecuencia: 129\n",
            "Elemento: -9.4 Frecuencia: 129\n",
            "Elemento: -8.9 Frecuencia: 134\n",
            "Elemento: -8.9 Frecuencia: 134\n",
            "Elemento: -8.7 Frecuencia: 138\n"
          ]
        }
      ]
    },
    {
      "cell_type": "markdown",
      "source": [
        "Encontramos el elemento mayor y el elemento menor con 4 dígitos de precisión para calcular el promedio como nuestro elemento indicativo"
      ],
      "metadata": {
        "id": "P63vG-jEHbYQ"
      }
    },
    {
      "cell_type": "code",
      "source": [
        "elemento_menor_frecuencia = 10000\n",
        "elemento_mayor_frecuencia = -10000\n",
        "for elemento, frecuencia in zip(elementos_4, frecuencias_4):\n",
        "  if elemento >= -9.4 and elemento <= -8.7 :\n",
        "    if elemento > elemento_mayor_frecuencia :\n",
        "      elemento_mayor_frecuencia = elemento\n",
        "    if elemento < elemento_menor_frecuencia :\n",
        "      elemento_menor_frecuencia = elemento\n",
        "elemento_promedio = (elemento_mayor_frecuencia + elemento_menor_frecuencia)/2\n",
        "print(\"Elemento mayor:\", elemento_mayor_frecuencia)\n",
        "print(\"Elemento menor:\", elemento_menor_frecuencia)\n",
        "print(\"Elemento promedio:\", elemento_promedio)"
      ],
      "metadata": {
        "colab": {
          "base_uri": "https://localhost:8080/"
        },
        "id": "zEmoaAxfAMAT",
        "outputId": "0507aebe-17f7-4cc8-c724-c882e8ce41fb"
      },
      "execution_count": 22,
      "outputs": [
        {
          "output_type": "stream",
          "name": "stdout",
          "text": [
            "Elemento mayor: -8.7004\n",
            "Elemento menor: -9.3996\n",
            "Elemento promedio: -9.05\n"
          ]
        }
      ]
    },
    {
      "cell_type": "markdown",
      "source": [
        "Ahora graficamos con 2, 3 y 4 dígitos de precisión para analizar nuestros resultados"
      ],
      "metadata": {
        "id": "z6vLHX6aIDZH"
      }
    },
    {
      "cell_type": "code",
      "execution_count": null,
      "metadata": {
        "colab": {
          "base_uri": "https://localhost:8080/",
          "height": 472
        },
        "id": "scCVoaSZFVnX",
        "outputId": "01c9fe91-d806-475e-8696-e75682ce0a63"
      },
      "outputs": [
        {
          "output_type": "display_data",
          "data": {
            "text/plain": [
              "<Figure size 640x480 with 1 Axes>"
            ],
            "image/png": "[encoded data removed]"
          },
          "metadata": {}
        }
      ],
      "source": [
        "plt.plot(elementos_2,frecuencias_2,marker =\".\")\n",
        "plt.xlabel('P(x)')\n",
        "plt.ylabel('Frecuencia')\n",
        "plt.title('P(x) Vs Frecuencia, 2 digitos')\n",
        "plt.show()"
      ]
    },
    {
      "cell_type": "code",
      "execution_count": null,
      "metadata": {
        "colab": {
          "base_uri": "https://localhost:8080/",
          "height": 472
        },
        "id": "CNZORG33FWf7",
        "outputId": "0f3a0030-9874-4429-fe4a-c2ebe410725b"
      },
      "outputs": [
        {
          "output_type": "display_data",
          "data": {
            "text/plain": [
              "<Figure size 640x480 with 1 Axes>"
            ],
            "image/png": "[encoded data removed]"
          },
          "metadata": {}
        }
      ],
      "source": [
        "plt.plot(elementos_3,frecuencias_3,marker =\".\")\n",
        "plt.xlabel('P(x)')\n",
        "plt.ylabel('Frecuencia')\n",
        "plt.title('P(x) Vs Frecuencia, 3 digitos')\n",
        "plt.show()"
      ]
    },
    {
      "cell_type": "code",
      "execution_count": null,
      "metadata": {
        "colab": {
          "base_uri": "https://localhost:8080/",
          "height": 472
        },
        "id": "4AXT-cbjcZ7B",
        "outputId": "bce7b4f9-12e6-43ae-a0ea-5ea0ccff7811"
      },
      "outputs": [
        {
          "output_type": "display_data",
          "data": {
            "text/plain": [
              "<Figure size 640x480 with 1 Axes>"
            ],
            "image/png": "[encoded data removed]"
          },
          "metadata": {}
        }
      ],
      "source": [
        "plt.plot(elementos_4,frecuencias_4,marker =\".\")\n",
        "plt.xlabel('P(x)')\n",
        "plt.ylabel('Frecuencia')\n",
        "plt.title('P(x) Vs Frecuencia, 4 digitos')\n",
        "plt.show()"
      ]
    },
    {
      "cell_type": "markdown",
      "source": [
        "Cálculo del vector de máximos y mínimos presentes en la matriz de entenamiento"
      ],
      "metadata": {
        "id": "udbnbhQSoVuc"
      }
    },
    {
      "cell_type": "code",
      "execution_count": null,
      "metadata": {
        "id": "3N2-4xaaaiHn"
      },
      "outputs": [],
      "source": [
        "minimo = np.amin(X)\n",
        "maximo = np.amax(X)"
      ]
    },
    {
      "cell_type": "markdown",
      "source": [
        "Algoritmo que genera hasta 50000001 valores de sorteos para ser evaluados posteriormente con el modelo"
      ],
      "metadata": {
        "id": "4WPuygqnoJZu"
      }
    },
    {
      "cell_type": "code",
      "source": [
        "fila = []\n",
        "lista = []\n",
        "for balota1 in range(minimo['A'], maximo['A']+1):\n",
        "  if len(lista) > 50000000:\n",
        "        break\n",
        "  for balota2 in range(minimo['B'], maximo['B']+1):\n",
        "    if len(lista) > 50000000:\n",
        "        break\n",
        "    for balota3 in range(minimo['C'], maximo['C']+1):\n",
        "      if len(lista) > 50000000:\n",
        "        break\n",
        "      for balota4 in range(minimo['D'], maximo['D']+1):\n",
        "        if len(lista) > 50000000:\n",
        "          break\n",
        "        for balota5 in range(minimo['E'], maximo['E']+1):\n",
        "          if len(lista) > 50000000:\n",
        "            break\n",
        "          for balota6 in range(minimo['F'], maximo['F']+1):\n",
        "            if len(lista) > 50000000:\n",
        "              break\n",
        "            fila.append(balota1)\n",
        "            fila.append(balota2)\n",
        "            fila.append(balota3)\n",
        "            fila.append(balota4)\n",
        "            fila.append(balota5)\n",
        "            fila.append(balota6)\n",
        "            lista.append(np.array(fila))\n",
        "            fila = []"
      ],
      "metadata": {
        "id": "JjkvgZTUkN4u"
      },
      "execution_count": 25,
      "outputs": []
    },
    {
      "cell_type": "code",
      "source": [
        "len(lista)"
      ],
      "metadata": {
        "colab": {
          "base_uri": "https://localhost:8080/"
        },
        "id": "C2P8XrsJ2opW",
        "outputId": "1461a4c8-4c3d-407f-8086-f7ee8f98e4f8"
      },
      "execution_count": 26,
      "outputs": [
        {
          "output_type": "execute_result",
          "data": {
            "text/plain": [
              "50000001"
            ]
          },
          "metadata": {},
          "execution_count": 26
        }
      ]
    },
    {
      "cell_type": "markdown",
      "source": [
        "En la construcción de los datos de validación, se elaboró un algoritmo que permite generar un valor Xi aleatorio cuyos valores de cada columna están entre el mínimo y el máximo de los valores de entrenamiento, también se descartan las secuencias repetidas por lo poco probable que estas salgan.  El valor del error para la precisión puede ser adaptado según la necesidad.  Por tiempo de procesamiento el error permitido es 0.01, con mayor capacidad de procesamiento se puede tener un menor error permitido"
      ],
      "metadata": {
        "id": "0I4O8U3WIQUJ"
      }
    },
    {
      "cell_type": "code",
      "execution_count": null,
      "metadata": {
        "colab": {
          "base_uri": "https://localhost:8080/"
        },
        "id": "WwnEAXKoKQQw",
        "outputId": "354bc05b-8f5e-4752-f4f2-c82a83c425e1"
      },
      "outputs": [
        {
          "output_type": "stream",
          "name": "stdout",
          "text": [
            "{'index': 15454, 'X': array([[ 6, 17, 26, 30, 34, 43]]), 'Px': -9.04983576242006}\n",
            "{'index': 90828, 'X': array([[ 3, 16, 23, 32, 36, 39]]), 'Px': -9.050828621513695}\n",
            "{'index': 214120, 'X': array([[ 6, 13, 16, 27, 35, 44]]), 'Px': -9.056288201622184}\n",
            "{'index': 256381, 'X': array([[ 9, 15, 26, 29, 34, 33]]), 'Px': -9.054465355942845}\n",
            "[{'index': 15454, 'X': array([[ 6, 17, 26, 30, 34, 43]]), 'Px': -9.04983576242006}, {'index': 90828, 'X': array([[ 3, 16, 23, 32, 36, 39]]), 'Px': -9.050828621513695}, {'index': 214120, 'X': array([[ 6, 13, 16, 27, 35, 44]]), 'Px': -9.056288201622184}, {'index': 256381, 'X': array([[ 9, 15, 26, 29, 34, 33]]), 'Px': -9.054465355942845}]\n"
          ]
        }
      ],
      "source": [
        "import random\n",
        "xnew = []\n",
        "row = []\n",
        "contador = 0\n",
        "resultados = []\n",
        "procesados = []\n",
        "while True:\n",
        "  contador = contador + 1\n",
        "  row.append(random.randrange(minimo['A'], maximo['A'],1))\n",
        "  row.append(random.randrange(minimo['B'], maximo['B'],1))\n",
        "  row.append(random.randrange(minimo['C'], maximo['C'],1))\n",
        "  row.append(random.randrange(minimo['D'], maximo['D'],1))\n",
        "  row.append(random.randrange(minimo['E'], maximo['E'],1))\n",
        "  row.append(random.randrange(minimo['F'], maximo['F'],1))\n",
        "  xnew.append(row)\n",
        "  if row not in procesados:\n",
        "    procesados.append(row)\n",
        "    X_i = np.array(xnew)\n",
        "    Px = multiplicar_vectores(multiplicarVxM(X_i,Wi),X_i.T) + multiplicar_vectores(X_i,wi.T) + wio\n",
        "    error_permitido = 0.01\n",
        "    Px_round = Px\n",
        "    error_actual = np.abs(Px_round - elemento_promedio)\n",
        "    if error_permitido >= error_actual:\n",
        "      resultado = {}\n",
        "      resultado['index'] = contador\n",
        "      resultado['X'] = X_i\n",
        "      resultado['Px'] = Px\n",
        "      print(resultado)\n",
        "      resultados.append(resultado)\n",
        "    if len(resultados)>3:\n",
        "      break\n",
        "  row = []\n",
        "  xnew = []\n",
        "  #if contador % 10000 == 0:\n",
        "    #print(f'Vamos por: {contador}')\n",
        "print(resultados)"
      ]
    },
    {
      "cell_type": "markdown",
      "source": [
        "Este es el segundo algoritmo que recorre 50000001 convinaciones de números por tiempo de procesamiento se toma un margen de error de 0.00001"
      ],
      "metadata": {
        "id": "P9HYdoK6Nm-g"
      }
    },
    {
      "cell_type": "code",
      "source": [
        "contador = 0\n",
        "resultados = []\n",
        "procesados1 = []\n",
        "X_fila = []\n",
        "for fila in lista:\n",
        "  X_fila.append(fila)\n",
        "  X_i = np.array(X_fila)\n",
        "  X_fila = []\n",
        "  contador = contador + 1\n",
        "  Px = multiplicar_vectores(multiplicarVxM(X_i,Wi),X_i.T) + multiplicar_vectores(X_i,wi.T) + wio\n",
        "  error_permitido = 0.00001\n",
        "  Px_round = Px\n",
        "  error_actual = np.abs(Px_round - elemento_promedio)\n",
        "  if error_permitido >= error_actual:\n",
        "    resultado = {}\n",
        "    resultado['index'] = contador\n",
        "    resultado['X'] = X_i\n",
        "    resultado['Px'] = Px\n",
        "    print(resultado)\n",
        "    resultados.append(resultado)\n",
        "  if len(resultados)>3:\n",
        "    break\n",
        "  row = []\n",
        "  xnew = []\n",
        "  #if contador % 10000 == 0:\n",
        "    #print(f'Vamos por: {contador}')\n",
        "print(resultados)"
      ],
      "metadata": {
        "colab": {
          "base_uri": "https://localhost:8080/"
        },
        "id": "sloYdb6cXaYX",
        "outputId": "d54a3414-dad5-4e61-a8b2-129c5b699cc6"
      },
      "execution_count": 29,
      "outputs": [
        {
          "output_type": "stream",
          "name": "stdout",
          "text": [
            "{'index': 6303667, 'X': array([[ 1,  4, 13, 18, 24, 26]]), 'Px': -9.050002825246832}\n",
            "{'index': 11989725, 'X': array([[ 1,  6, 14, 22, 23, 35]]), 'Px': -9.050009432593232}\n",
            "{'index': 20067599, 'X': array([[ 1,  9,  9, 17, 28, 32]]), 'Px': -9.049999055255498}\n",
            "{'index': 32034953, 'X': array([[ 1, 13, 20, 21, 28, 32]]), 'Px': -9.050001256040236}\n",
            "[{'index': 6303667, 'X': array([[ 1,  4, 13, 18, 24, 26]]), 'Px': -9.050002825246832}, {'index': 11989725, 'X': array([[ 1,  6, 14, 22, 23, 35]]), 'Px': -9.050009432593232}, {'index': 20067599, 'X': array([[ 1,  9,  9, 17, 28, 32]]), 'Px': -9.049999055255498}, {'index': 32034953, 'X': array([[ 1, 13, 20, 21, 28, 32]]), 'Px': -9.050001256040236}]\n"
          ]
        }
      ]
    }
  ],
  "metadata": {
    "colab": {
      "provenance": []
    },
    "kernelspec": {
      "display_name": "Python 3",
      "name": "python3"
    },
    "language_info": {
      "name": "python"
    }
  },
  "nbformat": 4,
  "nbformat_minor": 0
}